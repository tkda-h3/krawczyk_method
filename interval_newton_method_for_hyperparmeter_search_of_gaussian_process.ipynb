{
 "cells": [
  {
   "cell_type": "markdown",
   "metadata": {},
   "source": [
    "# ガウス過程の周辺尤度最大化"
   ]
  },
  {
   "cell_type": "code",
   "execution_count": 1,
   "metadata": {
    "collapsed": true
   },
   "outputs": [],
   "source": [
    "%matplotlib inline \n",
    "from IPython.core.display import display, Math, Latex\n",
    "\n",
    "from mpl_toolkits.mplot3d import Axes3D\n",
    "import matplotlib.pyplot as plt\n",
    "from matplotlib.patches import Rectangle\n",
    "import matplotlib.animation as animation\n",
    "import numpy as np\n",
    "import pandas as pd\n",
    "from sympy import *\n",
    "import sympy\n",
    "import matplotlib.figure\n",
    "init_printing()\n",
    "#from math import *\n",
    "from interval import interval\n",
    "from interval import imath\n",
    "import sys\n",
    "from pprint import pprint\n",
    "\n",
    "\n",
    "from mpl_toolkits.mplot3d import Axes3D\n",
    "import matplotlib.pyplot as plt\n",
    "from matplotlib.patches import Rectangle\n",
    "import matplotlib.animation as animation\n",
    "import numpy as np\n",
    "from numpy.random import seed\n",
    "import pandas as pd"
   ]
  },
  {
   "cell_type": "markdown",
   "metadata": {},
   "source": [
    "## 1. Log marginal likelihood の定義\n",
    "- $\\mathbf{\\theta} = (\\sigma_f, l, \\sigma_n)$\n",
    "- $ K_{y(pq)} = kernel(\\mathbf{x}_p, \\mathbf{x}_q, \\mathbf{\\theta}) + \\sigma_n\\delta_{pq}$\n",
    "- $\\log(p(\\mathbf{y} | X, \\mathbf{\\theta})) = - 1/2 * \\mathbf{y}^TK^{-1}_y\\mathbf{y} - 1/2 * \\log{|K_y|} - n/2* \\log{2\\pi}$\n",
    "- $f(\\mathbf{\\theta}) = - \\log(p(\\mathbf{y} | X, \\mathbf{\\theta}))$\n",
    "    - $f(\\mathbf{\\theta})$を最小化する"
   ]
  },
  {
   "cell_type": "markdown",
   "metadata": {},
   "source": [
    "### 1.1 データの読み込み\n",
    "- 'generate_psuedo_data_for_regression.ipynb'で作成した 'dump/data_df.pkl'"
   ]
  },
  {
   "cell_type": "code",
   "execution_count": 2,
   "metadata": {},
   "outputs": [
    {
     "name": "stdout",
     "output_type": "stream",
     "text": [
      "2\n",
      "(2, 2)\n",
      "[[  4.90966464e+00   1.16373936e-03]\n",
      " [  1.20400978e+00   7.70527111e+00]]\n",
      "[ 15.18389008  30.05525107]\n"
     ]
    },
    {
     "data": {
      "image/png": "[encoded data removed]",
      "text/latex": [
       "$$73.0851482996$$"
      ],
      "text/plain": [
       "73.0851482996"
      ]
     },
     "execution_count": 2,
     "metadata": {},
     "output_type": "execute_result"
    }
   ],
   "source": [
    "data_df = pd.read_pickle('dump/data_df.pkl')[:2]\n",
    "print(len(data_df))\n",
    "X = np.array(list(data_df.X))\n",
    "print(X.shape)\n",
    "y = np.array(data_df.y)\n",
    "print(X, end='\\n')\n",
    "\n",
    "print(y)\n",
    "\n",
    "np.sum((X[0] - X[1])**2)"
   ]
  },
  {
   "cell_type": "code",
   "execution_count": 3,
   "metadata": {
    "scrolled": true
   },
   "outputs": [
    {
     "name": "stdout",
     "output_type": "stream",
     "text": [
      "(100, 3)\n"
     ]
    },
    {
     "data": {
      "image/png": "[encoded data removed]",
      "text/latex": [
       "$$\\left ( l, \\quad \\sigma_{f}, \\quad \\sigma_{n}\\right )$$"
      ],
      "text/plain": [
       "(l, σ_f, σₙ)"
      ]
     },
     "metadata": {},
     "output_type": "display_data"
    },
    {
     "data": {
      "image/png": "[encoded data removed]",
      "text/latex": [
       "$$l$$"
      ],
      "text/plain": [
       "l"
      ]
     },
     "metadata": {},
     "output_type": "display_data"
    },
    {
     "data": {
      "image/png": "[encoded data removed]",
      "text/latex": [
       "$$\\sigma_{f}$$"
      ],
      "text/plain": [
       "σ_f"
      ]
     },
     "metadata": {},
     "output_type": "display_data"
    },
    {
     "data": {
      "image/png": "[encoded data removed]",
      "text/latex": [
       "$$\\sigma_{n}$$"
      ],
      "text/plain": [
       "σₙ"
      ]
     },
     "metadata": {},
     "output_type": "display_data"
    },
    {
     "name": "stdout",
     "output_type": "stream",
     "text": [
      "(x1, x2, x3, x4, x5, x6, x7, x8, x9, x10)\n"
     ]
    }
   ],
   "source": [
    "_X_num= 5\n",
    "_X_dim =  2\n",
    "_X = symbols('x1:%d' % (_X_num * _X_dim + 1))\n",
    "\n",
    "seed(1234)\n",
    "_X_val = np.array(np.random.uniform(low=0, high=10, size=(100,3)))\n",
    "print(_X_val.shape)\n",
    "theta = l, sigma_f, sigma_n = symbols('l sigma_f sigma_n')\n",
    "display(theta)\n",
    "display(l)\n",
    "display(sigma_f)\n",
    "display(sigma_n)\n",
    "print(_X)"
   ]
  },
  {
   "cell_type": "markdown",
   "metadata": {},
   "source": [
    "### 1.2 $K_y$を定義"
   ]
  },
  {
   "cell_type": "code",
   "execution_count": 4,
   "metadata": {},
   "outputs": [],
   "source": [
    "def kernel(p, q, i, j):\n",
    "    \"\"\"\n",
    "    p,q: np.array\n",
    "    \"\"\"\n",
    "    def rbf(p, q):\n",
    "        dist = np.sum((p - q) ** 2)\n",
    "        return exp(-(1. / l**2) * dist)\n",
    "    \n",
    "    ans =  (sigma_f**2) * rbf(p, q) + (sigma_n**2) * int(i == j) # 対角成分のみnoiseを追加\n",
    "    return ans\n"
   ]
  },
  {
   "cell_type": "code",
   "execution_count": 5,
   "metadata": {},
   "outputs": [
    {
     "data": {
      "image/png": "[encoded data removed]",
      "text/latex": [
       "$$\\left[\\begin{matrix}\\sigma_{f}^{2} + \\sigma_{n}^{2} & \\sigma_{f}^{2} e^{- \\frac{73.0851482996374}{l^{2}}}\\\\\\sigma_{f}^{2} e^{- \\frac{73.0851482996374}{l^{2}}} & \\sigma_{f}^{2} + \\sigma_{n}^{2}\\end{matrix}\\right]$$"
      ],
      "text/plain": [
       "⎡                                -73.0851482996374 ⎤\n",
       "⎢                                ──────────────────⎥\n",
       "⎢                                         2        ⎥\n",
       "⎢          2     2            2          l         ⎥\n",
       "⎢       σ_f  + σₙ          σ_f ⋅ℯ                  ⎥\n",
       "⎢                                                  ⎥\n",
       "⎢      -73.0851482996374                           ⎥\n",
       "⎢      ──────────────────                          ⎥\n",
       "⎢               2                                  ⎥\n",
       "⎢   2          l                     2     2       ⎥\n",
       "⎣σ_f ⋅ℯ                           σ_f  + σₙ        ⎦"
      ]
     },
     "metadata": {},
     "output_type": "display_data"
    }
   ],
   "source": [
    "K = Matrix([[kernel(p, q, i, j) for j,q in enumerate(X)] for i,p in enumerate(X)])\n",
    "display(K)"
   ]
  },
  {
   "cell_type": "markdown",
   "metadata": {},
   "source": [
    "### 1.3 $\\log(p(\\mathbf{y} | X, \\mathbf{\\theta}))$の計算"
   ]
  },
  {
   "cell_type": "code",
   "execution_count": 6,
   "metadata": {
    "collapsed": true
   },
   "outputs": [],
   "source": [
    "y = Matrix(y)\n",
    "\n",
    "def get_log_prob_expr(K, y): \n",
    "    K_inv = K.inv('LU')\n",
    "    first_tem = (1/2.) * (y.T)*(K_inv)*(y)\n",
    "    second_term = (1/2.) * Matrix([K.det()]).applyfunc(log)\n",
    "    third_term = Matrix([(len(y)/2.) * log(2*pi)])\n",
    "    log_prob = - first_tem -  second_term - third_term\n",
    "    return log_prob[0, 0]\n",
    "\n",
    "\n",
    "log_prob_expr = get_log_prob_expr(K, y)"
   ]
  },
  {
   "cell_type": "markdown",
   "metadata": {},
   "source": [
    "## 2. $f(\\theta)$の最小化"
   ]
  },
  {
   "cell_type": "markdown",
   "metadata": {},
   "source": [
    "### 2.1 評価関数 $f(\\theta)$ の定義\n",
    "- $f(\\mathbf{\\theta}) = - \\log(p(\\mathbf{y} | X, \\mathbf{\\theta}))$\n",
    "    - $f(\\mathbf{\\theta})$を最小化する"
   ]
  },
  {
   "cell_type": "code",
   "execution_count": 7,
   "metadata": {
    "scrolled": true
   },
   "outputs": [
    {
     "name": "stdout",
     "output_type": "stream",
     "text": [
      "interval([67.0641052242185, 28350.657881648393])\n",
      "\n",
      "interval([28344.64172448867, 28344.64172448869])\n",
      "interval([73.08034261148933, 73.08034261148939])\n",
      "\n",
      "interval([82.99516377451509, 89.15487870502054])\n"
     ]
    }
   ],
   "source": [
    "f_expr = - log_prob_expr\n",
    "#f = lambdify(theta, f_expr, modules=(imath, {'ImmutableDenseMatrix': list}))\n",
    "f = lambdify(theta, f_expr, modules=(imath))\n",
    "\n",
    "interval_val = (interval[0.1, 1.7], interval[0.1, 2.6], interval[0.1,1.2])\n",
    "print(f(*interval_val))\n",
    "print()\n",
    "print(f(0.1, 0.1, 0.1))\n",
    "print(f(1.7, 2.6, 1.2))\n",
    "print()\n",
    "print(f(interval[1.35, 1.6], interval[2.45, 2.5], interval[0.8,0.95]))\n"
   ]
  },
  {
   "cell_type": "markdown",
   "metadata": {},
   "source": [
    "### 2.2 $\\dfrac{\\partial}{\\partial \\theta}f(\\theta)$の計算"
   ]
  },
  {
   "cell_type": "code",
   "execution_count": 8,
   "metadata": {},
   "outputs": [
    {
     "name": "stdout",
     "output_type": "stream",
     "text": [
      "<class 'list'>\n",
      "<class 'function'>\n"
     ]
    }
   ],
   "source": [
    "df_expr = [[f_expr.diff(_theta)] for _theta in theta]\n",
    "print(type(df_expr))\n",
    "df = lambdify(theta, df_expr, modules=(imath, {'ImmutableDenseMatrix': list}))\n",
    "print(type(df))"
   ]
  },
  {
   "cell_type": "markdown",
   "metadata": {},
   "source": [
    "### 2.3 $\\dfrac{\\partial^{2}}{\\partial \\theta^{2}}f(\\theta)$の計算"
   ]
  },
  {
   "cell_type": "code",
   "execution_count": 9,
   "metadata": {
    "scrolled": true
   },
   "outputs": [
    {
     "name": "stdout",
     "output_type": "stream",
     "text": [
      "<class 'sympy.matrices.dense.MutableDenseMatrix'>\n",
      "<class 'function'>\n"
     ]
    }
   ],
   "source": [
    "ddf_expr = hessian(f_expr, theta)\n",
    "print(type(ddf_expr))\n",
    "ddf = lambdify(theta, ddf_expr, modules=(imath, {'ImmutableDenseMatrix': list}))\n",
    "print(type(ddf))"
   ]
  },
  {
   "cell_type": "code",
   "execution_count": null,
   "metadata": {
    "collapsed": true
   },
   "outputs": [],
   "source": []
  },
  {
   "cell_type": "code",
   "execution_count": null,
   "metadata": {
    "collapsed": true
   },
   "outputs": [],
   "source": []
  }
 ],
 "metadata": {
  "kernelspec": {
   "display_name": "Python 3",
   "language": "python",
   "name": "python3"
  },
  "language_info": {
   "codemirror_mode": {
    "name": "ipython",
    "version": 3
   },
   "file_extension": ".py",
   "mimetype": "text/x-python",
   "name": "python",
   "nbconvert_exporter": "python",
   "pygments_lexer": "ipython3",
   "version": "3.6.1"
  }
 },
 "nbformat": 4,
 "nbformat_minor": 2
}
