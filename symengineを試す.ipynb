{
 "cells": [
  {
   "cell_type": "code",
   "execution_count": 1,
   "metadata": {
    "collapsed": true
   },
   "outputs": [],
   "source": [
    "# from sympy import *\n",
    "import matplotlib.pyplot as plt\n",
    "\n",
    "import sympy as sp\n",
    "from sympy.plotting import plot, plot3d, plot3d_parametric_line, plot3d_parametric_surface\n",
    "\n",
    "import symengine as se\n",
    "#from symengine import *\n",
    "\n",
    "sp.init_printing()\n",
    "from interval import interval\n",
    "from interval import imath\n",
    "import sys\n",
    "from pprint import pprint\n",
    "\n",
    "import numpy as np\n",
    "import pandas as pd\n",
    "\n",
    "from ivmat import ivmat, fmat, Krawczyk"
   ]
  },
  {
   "cell_type": "code",
   "execution_count": 2,
   "metadata": {
    "collapsed": true
   },
   "outputs": [],
   "source": [
    "import sys\n",
    "sys.setrecursionlimit(100000)\n",
    "\n",
    "import time"
   ]
  },
  {
   "cell_type": "code",
   "execution_count": 4,
   "metadata": {},
   "outputs": [
    {
     "data": {
      "text/html": [
       "<div>\n",
       "<style>\n",
       "    .dataframe thead tr:only-child th {\n",
       "        text-align: right;\n",
       "    }\n",
       "\n",
       "    .dataframe thead th {\n",
       "        text-align: left;\n",
       "    }\n",
       "\n",
       "    .dataframe tbody tr th {\n",
       "        vertical-align: top;\n",
       "    }\n",
       "</style>\n",
       "<table border=\"1\" class=\"dataframe\">\n",
       "  <thead>\n",
       "    <tr style=\"text-align: right;\">\n",
       "      <th></th>\n",
       "      <th>X</th>\n",
       "      <th>y</th>\n",
       "    </tr>\n",
       "  </thead>\n",
       "  <tbody>\n",
       "    <tr>\n",
       "      <th>41</th>\n",
       "      <td>[-2.58038102647, 12.4829440005]</td>\n",
       "      <td>4.098547</td>\n",
       "    </tr>\n",
       "    <tr>\n",
       "      <th>42</th>\n",
       "      <td>[6.28314885084, 14.699170644]</td>\n",
       "      <td>204.808842</td>\n",
       "    </tr>\n",
       "    <tr>\n",
       "      <th>93</th>\n",
       "      <td>[-1.775574922, 5.97714091584]</td>\n",
       "      <td>18.503963</td>\n",
       "    </tr>\n",
       "    <tr>\n",
       "      <th>91</th>\n",
       "      <td>[-3.10405068799, 3.76115292675]</td>\n",
       "      <td>71.483509</td>\n",
       "    </tr>\n",
       "    <tr>\n",
       "      <th>97</th>\n",
       "      <td>[8.55338539981, 12.1863471629]</td>\n",
       "      <td>110.787023</td>\n",
       "    </tr>\n",
       "  </tbody>\n",
       "</table>\n",
       "</div>"
      ],
      "text/plain": [
       "                                  X           y\n",
       "41  [-2.58038102647, 12.4829440005]    4.098547\n",
       "42    [6.28314885084, 14.699170644]  204.808842\n",
       "93    [-1.775574922, 5.97714091584]   18.503963\n",
       "91  [-3.10405068799, 3.76115292675]   71.483509\n",
       "97   [8.55338539981, 12.1863471629]  110.787023"
      ]
     },
     "metadata": {},
     "output_type": "display_data"
    },
    {
     "name": "stdout",
     "output_type": "stream",
     "text": [
      "((5, 2), (5,))\n"
     ]
    }
   ],
   "source": [
    "_X_num= 20\n",
    "_X_dim =  2\n",
    "_X = se.symbols('x1:%d' % (_X_num * _X_dim + 1))\n",
    "theta = l, sigma_f, sigma_n = se.symbols('l sigma_f sigma_n')\n",
    "\n",
    "#data_df = pd.read_pickle('dump/data_df.pkl').sample(n=2, random_state=921)\n",
    "data_df = pd.read_pickle('dump/data_df.pkl').sample(n=5)\n",
    "display(data_df)\n",
    "X = np.array(list(data_df.X))\n",
    "y = np.array(data_df.y)\n",
    "print(X.shape, y.shape)"
   ]
  },
  {
   "cell_type": "code",
   "execution_count": 5,
   "metadata": {
    "collapsed": true
   },
   "outputs": [],
   "source": [
    "def kernel(p, q, i, j):\n",
    "    \"\"\"\n",
    "    p,q: np.array\n",
    "    \"\"\"\n",
    "    def rbf(p, q):        \n",
    "        dist = np.sum((p - q) ** 2)\n",
    "        return se.exp(-(1. / l**2) * dist)\n",
    "    \n",
    "    ans =  (sigma_f**2) * rbf(p, q) + (sigma_n**2) * int(i == j) # 対角成分のみnoiseを追加\n",
    "    return ans\n"
   ]
  },
  {
   "cell_type": "code",
   "execution_count": 6,
   "metadata": {},
   "outputs": [
    {
     "name": "stdout",
     "output_type": "stream",
     "text": [
      "5\n"
     ]
    }
   ],
   "source": [
    "K = se.Matrix([[kernel(p, q, i, j) for j,q in enumerate(X)] for i,p in enumerate(X)])\n",
    "print(len(y))\n",
    "if len(y) < 5:\n",
    "    display(K)"
   ]
  },
  {
   "cell_type": "markdown",
   "metadata": {},
   "source": [
    "## fを定義\n",
    "- $f(\\theta)$を最小化"
   ]
  },
  {
   "cell_type": "code",
   "execution_count": 7,
   "metadata": {
    "collapsed": true
   },
   "outputs": [],
   "source": [
    "y = se.Matrix(y)\n",
    "\n",
    "def get_log_prob_expr(K, y): \n",
    "    K_inv = K.inv('LU')\n",
    "    first_tem = (1/2.) * (y.T)*(K_inv)*(y)\n",
    "    second_term = (1/2.) * se.Matrix([se.log(K.det())])\n",
    "    third_term = se.Matrix([(len(y)/2.) * se.log(2*se.pi)])\n",
    "    log_prob = - first_tem -  second_term - third_term\n",
    "    return log_prob[0, 0]\n",
    "\n",
    "\n",
    "log_prob_expr = get_log_prob_expr(K, y)\n",
    "f_expr = - log_prob_expr"
   ]
  },
  {
   "cell_type": "code",
   "execution_count": 8,
   "metadata": {
    "collapsed": true
   },
   "outputs": [],
   "source": [
    "g_expr = f_expr.subs(sigma_f, 3)\n",
    "g = se.lambdify((l, sigma_n), [g_expr])"
   ]
  },
  {
   "cell_type": "code",
   "execution_count": 9,
   "metadata": {
    "collapsed": true
   },
   "outputs": [],
   "source": [
    "l_min, l_max = (0.5, 5.)\n",
    "sigma_n_min, sigma_n_max = (0.1, 5.)\n",
    "\n",
    "GRID_NUM = 60\n",
    "l_interval = (l_max - l_min)/ GRID_NUM * 1.0\n",
    "sigma_n_interval = (sigma_n_max - sigma_n_min)/ GRID_NUM * 1.0\n",
    "\n",
    "\n",
    "#fig = plot3d(g_expr, (l, l_min, l_max), (sigma_n, sigma_n_min, sigma_n_max))\n",
    "\n",
    "x = np.arange(l_min, l_max, l_interval) # length scale\n",
    "y = np.arange(sigma_n_min, sigma_n_max, sigma_n_interval) # noise \n",
    "X, Y =  np.meshgrid(x, y)\n",
    "Z = np.array([g(*x) for x in np.array([X.flatten(), Y.flatten()]).T ]).reshape(X.shape)"
   ]
  },
  {
   "cell_type": "code",
   "execution_count": 10,
   "metadata": {},
   "outputs": [
    {
     "data": {
      "image/png": "[encoded data removed]",
      "text/plain": [
       "<matplotlib.figure.Figure at 0x1055c9450>"
      ]
     },
     "metadata": {},
     "output_type": "display_data"
    }
   ],
   "source": [
    "\n",
    "plt.figure(figsize=(5,5))\n",
    "# plt.xscale('log')\n",
    "# plt.yscale('log')\n",
    "plt.contour(X, Y, Z, 20, zorder=1000, shading='gouraud', cmap=plt.cm.coolwarm)\n",
    "plt.xlabel('l')\n",
    "plt.ylabel('sigma_n')\n",
    "plt.show()"
   ]
  },
  {
   "cell_type": "code",
   "execution_count": null,
   "metadata": {},
   "outputs": [
    {
     "name": "stdout",
     "output_type": "stream",
     "text": [
      "15.5469880104\n"
     ]
    }
   ],
   "source": [
    "st = time.time()\n",
    "\n",
    "f = sp.lambdify(theta, f_expr, modules=(imath))\n",
    "\n",
    "print time.time() - st"
   ]
  },
  {
   "cell_type": "code",
   "execution_count": null,
   "metadata": {},
   "outputs": [
    {
     "name": "stdout",
     "output_type": "stream",
     "text": [
      "0.852082014084\n"
     ]
    }
   ],
   "source": [
    "st = time.time()\n",
    "\n",
    "df_expr = [[f_expr.diff(_theta)] for _theta in theta]\n",
    "print time.time() - st\n",
    "\n",
    "\n",
    "df = []\n",
    "for row_expr in df_expr:\n",
    "    tmp = []\n",
    "    for _df_expr in row_expr:\n",
    "        res = sp.lambdify(theta, _df_expr, modules=(imath))\n",
    "        tmp.append(res)\n",
    "    df.append(tmp)\n",
    "df = fmat(df)\n",
    "\n",
    "print(type(df))\n",
    "print time.time() - st"
   ]
  },
  {
   "cell_type": "code",
   "execution_count": null,
   "metadata": {},
   "outputs": [],
   "source": [
    "st = time.time()\n",
    "\n",
    "ddf_expr = []\n",
    "for _df_expr in map(lambda x: x[0], df_expr):\n",
    "    tmp_row = []\n",
    "    for _theta in theta:\n",
    "        tmp = _df_expr.diff(_theta)\n",
    "        tmp_row.append(tmp)\n",
    "    ddf_expr.append(tmp_row)\n",
    "\n",
    "print time.time() - st\n",
    "    \n",
    "ddf = []    \n",
    "for row in ddf_expr:\n",
    "    tmp_row = []\n",
    "    for _ddf_expr in row:\n",
    "        tmp = sp.lambdify(theta, _ddf_expr, modules=(imath))\n",
    "        tmp_row.append(tmp)\n",
    "    ddf.append(tmp_row)\n",
    "ddf = fmat(ddf)\n",
    "\n",
    "print time.time() - st"
   ]
  },
  {
   "cell_type": "code",
   "execution_count": null,
   "metadata": {},
   "outputs": [],
   "source": [
    "X = ivmat(\n",
    "    [\n",
    "        [interval[1.7, 2.3]], # l\n",
    "        [interval[4.98, 5.02]], # sigma_f \n",
    "        [interval[0.01, 2.4]], # sigma_n\n",
    "    ])\n",
    "\n",
    "st = time.time()\n",
    "df.apply_args(X)\n",
    "print time.time() - st\n",
    "\n",
    "\n",
    "st = time.time()\n",
    "ddf.apply_args(X)\n",
    "print time.time() - st\n"
   ]
  },
  {
   "cell_type": "code",
   "execution_count": null,
   "metadata": {
    "code_folding": [],
    "scrolled": false
   },
   "outputs": [],
   "source": [
    "X = ivmat(\n",
    "    [\n",
    "        [interval[1.7, 2.3]], # l\n",
    "        [interval[2.98, 5.02]], # sigma_f \n",
    "        [interval[0.01, 2.4]], # sigma_n\n",
    "    ])\n",
    "\n",
    "\n",
    "print(X.shape)\n",
    "kra = Krawczyk(df, ddf ,X)\n",
    "\n",
    "st = time.time()\n",
    "\n",
    "cnt_max = 100\n",
    "max_width = 1e-6\n",
    "ans_boxes, s_num_list, t_num_list, u_num_list, animation_boxes = kra.find_all_solution(trace=False, cnt_max=cnt_max, max_width=max_width)\n",
    "\n",
    "print time.time() - st"
   ]
  },
  {
   "cell_type": "code",
   "execution_count": null,
   "metadata": {
    "collapsed": true
   },
   "outputs": [],
   "source": [
    "# import pickle\n",
    "\n",
    "# def save_pickle(obj, path):\n",
    "#     with open(path, 'wb') as f:\n",
    "#         pickle.dump(obj, f)\n",
    "\n",
    "# def load_pickle(path):\n",
    "#     with open(path, 'rb') as f:\n",
    "#         return pickle.load(f)\n",
    "    \n",
    "\n",
    "# save_pickle(f, 'dump/tmp_f')    \n",
    "# save_pickle(df, 'dump/tmp_df')    \n",
    "# save_pickle(ddf, 'dump/tmp_ddf')\n"
   ]
  },
  {
   "cell_type": "code",
   "execution_count": null,
   "metadata": {
    "collapsed": true
   },
   "outputs": [],
   "source": []
  },
  {
   "cell_type": "code",
   "execution_count": null,
   "metadata": {
    "collapsed": true
   },
   "outputs": [],
   "source": []
  }
 ],
 "metadata": {
  "kernelspec": {
   "display_name": "Python 2",
   "language": "python",
   "name": "python2"
  },
  "language_info": {
   "codemirror_mode": {
    "name": "ipython",
    "version": 2
   },
   "file_extension": ".py",
   "mimetype": "text/x-python",
   "name": "python",
   "nbconvert_exporter": "python",
   "pygments_lexer": "ipython2",
   "version": "2.7.13"
  }
 },
 "nbformat": 4,
 "nbformat_minor": 2
}
